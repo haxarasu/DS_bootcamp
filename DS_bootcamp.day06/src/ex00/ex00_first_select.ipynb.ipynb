{
 "cells": [
  {
   "cell_type": "code",
   "execution_count": 3,
   "id": "a19badbc",
   "metadata": {},
   "outputs": [
    {
     "name": "stdout",
     "output_type": "stream",
     "text": [
      "Processed pageviews dataframe:\n",
      "                                 uid\n",
      "datetime                           \n",
      "2020-04-26 21:53:59.624136   user_1\n",
      "2020-04-26 22:06:19.478143   user_1\n",
      "2020-04-26 22:12:09.614497   user_1\n",
      "2020-04-30 19:29:01.831635   user_1\n",
      "2020-05-05 20:26:32.894852   user_1\n",
      "...                             ...\n",
      "2020-04-29 16:51:21.877630  user_30\n",
      "2020-05-09 20:30:47.034282  user_30\n",
      "2020-05-22 11:30:18.368990   user_5\n",
      "2020-05-21 16:28:28.217529   user_9\n",
      "2020-05-21 16:36:40.915488   user_9\n",
      "\n",
      "[987 rows x 1 columns]\n"
     ]
    }
   ],
   "source": [
    "import sqlite3\n",
    "import pandas as pd\n",
    "\n",
    "conn = sqlite3.connect('../data/checking-logs.sqlite')\n",
    "table = \"pageviews\"\n",
    "\n",
    "schema_data = pd.io.sql.read_sql_query(f\"PRAGMA table_info({table})\", conn)\n",
    "\n",
    "preview = pd.read_sql(f\"SELECT * FROM {table} LIMIT 10\", conn)\n",
    "\n",
    "query = \"\"\"\n",
    "SELECT uid, datetime\n",
    "FROM pageviews\n",
    "WHERE uid LIKE 'user_%'\n",
    "ORDER BY uid ASC\n",
    "\"\"\"\n",
    "\n",
    "pageviews = pd.read_sql(query, conn, index_col=\"datetime\")\n",
    "\n",
    "pageviews.index = pd.to_datetime(pageviews.index)\n",
    "\n",
    "conn.close()\n",
    "\n",
    "print(\"Processed pageviews dataframe:\\n\", pageviews)"
   ]
  }
 ],
 "metadata": {
  "kernelspec": {
   "display_name": "localenv",
   "language": "python",
   "name": "python3"
  },
  "language_info": {
   "codemirror_mode": {
    "name": "ipython",
    "version": 3
   },
   "file_extension": ".py",
   "mimetype": "text/x-python",
   "name": "python",
   "nbconvert_exporter": "python",
   "pygments_lexer": "ipython3",
   "version": "3.13.3"
  }
 },
 "nbformat": 4,
 "nbformat_minor": 5
}
