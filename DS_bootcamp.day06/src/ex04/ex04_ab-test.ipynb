{
 "cells": [
  {
   "cell_type": "code",
   "execution_count": 3,
   "id": "4578636a",
   "metadata": {},
   "outputs": [
    {
     "name": "stdout",
     "output_type": "stream",
     "text": [
      "Test group results:\n",
      "      time    avg_diff\n",
      "0   after  103.953310\n",
      "1  before   61.156438\n",
      "Control group results:\n",
      "      time    avg_diff\n",
      "0   after  113.232196\n",
      "1  before   99.901295\n"
     ]
    }
   ],
   "source": [
    "import sqlite3\n",
    "import pandas as pd\n",
    "\n",
    "conn = sqlite3.connect(\"../data/checking-logs.sqlite\")\n",
    "\n",
    "query_test = \"\"\"\n",
    "SELECT\n",
    "    CASE\n",
    "        WHEN t.first_commit_ts < t.first_view_ts THEN 'before'\n",
    "        ELSE 'after'\n",
    "    END AS time,\n",
    "    AVG((julianday(datetime(dl.deadlines, 'unixepoch')) - julianday(t.first_commit_ts)) * 24) AS avg_diff\n",
    "FROM test_group t\n",
    "JOIN deadlines dl ON t.labname = dl.labs\n",
    "WHERE t.labname != 'project1'\n",
    "GROUP BY time\n",
    "HAVING COUNT(*) > 1;\n",
    "\"\"\"\n",
    "test_results = pd.read_sql(query_test, conn)\n",
    "\n",
    "query_control = \"\"\"\n",
    "SELECT\n",
    "    CASE\n",
    "        WHEN c.first_commit_ts < c.first_view_ts THEN 'before'\n",
    "        ELSE 'after'\n",
    "    END AS time,\n",
    "    AVG((julianday(datetime(dl.deadlines, 'unixepoch')) - julianday(c.first_commit_ts)) * 24) AS avg_diff\n",
    "FROM control_group c\n",
    "JOIN deadlines dl ON c.labname = dl.labs\n",
    "WHERE c.labname != 'project1'\n",
    "GROUP BY time\n",
    "HAVING COUNT(*) > 1;\n",
    "\"\"\"\n",
    "control_results = pd.read_sql(query_control, conn)\n",
    "\n",
    "conn.close()\n",
    "\n",
    "print(\"Test group results:\\n\", test_results)\n",
    "print(\"Control group results:\\n\", control_results)\n"
   ]
  }
 ],
 "metadata": {
  "kernelspec": {
   "display_name": "localenv",
   "language": "python",
   "name": "python3"
  },
  "language_info": {
   "codemirror_mode": {
    "name": "ipython",
    "version": 3
   },
   "file_extension": ".py",
   "mimetype": "text/x-python",
   "name": "python",
   "nbconvert_exporter": "python",
   "pygments_lexer": "ipython3",
   "version": "3.13.3"
  }
 },
 "nbformat": 4,
 "nbformat_minor": 5
}
