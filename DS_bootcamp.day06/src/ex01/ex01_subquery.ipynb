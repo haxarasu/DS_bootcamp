{
 "cells": [
  {
   "cell_type": "code",
   "execution_count": 2,
   "id": "24bb471e",
   "metadata": {},
   "outputs": [
    {
     "name": "stdout",
     "output_type": "stream",
     "text": [
      "Schema of checker table:\n",
      "    cid       name       type  notnull dflt_value  pk\n",
      "0    0      index    INTEGER        0       None   0\n",
      "1    1     status       TEXT        0       None   0\n",
      "2    2    success    INTEGER        0       None   0\n",
      "3    3  timestamp  TIMESTAMP        0       None   0\n",
      "4    4  numTrials    INTEGER        0       None   0\n",
      "5    5    labname       TEXT        0       None   0\n",
      "6    6        uid       TEXT        0       None   0 \n",
      "\n",
      "First 10 rows of checker table:\n",
      "    index    status  success                   timestamp  numTrials   labname  \\\n",
      "0      0  checking        0  2020-04-16 21:12:50.740474          5      None   \n",
      "1      1     ready        0  2020-04-16 21:12:54.708365          5  code_rvw   \n",
      "2      2  checking        0  2020-04-16 21:46:47.769088          7      None   \n",
      "3      3     ready        0  2020-04-16 21:46:48.121217          7     lab02   \n",
      "4      4  checking        0  2020-04-16 21:53:01.862637          6  code_rvw   \n",
      "5      5     ready        0  2020-04-16 21:53:05.373389          6  code_rvw   \n",
      "6      6  checking        0  2020-04-17 05:18:51.965864          1      None   \n",
      "7      7     ready        0  2020-04-17 05:19:02.744528          1  project1   \n",
      "8      8  checking        0  2020-04-17 05:22:35.249331          2  project1   \n",
      "9      9     ready        1  2020-04-17 05:22:45.549397          2  project1   \n",
      "\n",
      "       uid  \n",
      "0  admin_1  \n",
      "1  admin_1  \n",
      "2  admin_1  \n",
      "3  admin_1  \n",
      "4  admin_1  \n",
      "5  admin_1  \n",
      "6     None  \n",
      "7   user_4  \n",
      "8   user_4  \n",
      "9   user_4   \n",
      "\n",
      "Count of matching rows:\n",
      "    cnt\n",
      "0  985\n"
     ]
    }
   ],
   "source": [
    "import sqlite3\n",
    "import pandas as pd\n",
    "\n",
    "conn = sqlite3.connect(\"../data/checking-logs.sqlite\")\n",
    "\n",
    "schema_checker_df = pd.read_sql(\"PRAGMA table_info(checker);\", conn)\n",
    "print(\"Schema of checker table:\\n\", schema_checker_df, \"\\n\")\n",
    "\n",
    "preview_checker_df = pd.read_sql(\"SELECT * FROM checker LIMIT 10;\", conn)\n",
    "print(\"First 10 rows of checker table:\\n\", preview_checker_df, \"\\n\")\n",
    "\n",
    "query = \"\"\"\n",
    "SELECT COUNT(*) AS cnt\n",
    "FROM pageviews\n",
    "WHERE uid IN (\n",
    "    SELECT uid\n",
    "    FROM checker\n",
    "    WHERE status = 'ready'\n",
    "    AND numTrials = 1\n",
    "    AND labname IN ('laba04', 'laba04s', 'laba05', 'laba06', 'laba06s', 'project1')\n",
    ");\n",
    "\"\"\"\n",
    "\n",
    "checkers = pd.read_sql(query, conn)\n",
    "\n",
    "conn.close()\n",
    "\n",
    "print(\"Count of matching rows:\\n\", checkers)\n"
   ]
  }
 ],
 "metadata": {
  "kernelspec": {
   "display_name": "localenv",
   "language": "python",
   "name": "python3"
  },
  "language_info": {
   "codemirror_mode": {
    "name": "ipython",
    "version": 3
   },
   "file_extension": ".py",
   "mimetype": "text/x-python",
   "name": "python",
   "nbconvert_exporter": "python",
   "pygments_lexer": "ipython3",
   "version": "3.13.3"
  }
 },
 "nbformat": 4,
 "nbformat_minor": 5
}
