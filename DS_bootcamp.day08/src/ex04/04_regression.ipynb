{
 "cells": [
  {
   "cell_type": "markdown",
   "metadata": {},
   "source": [
    "# Day 08. Exercise 04\n",
    "# Regression"
   ]
  },
  {
   "cell_type": "markdown",
   "metadata": {},
   "source": [
    "## 0. Imports"
   ]
  },
  {
   "cell_type": "code",
   "execution_count": 6,
   "metadata": {},
   "outputs": [],
   "source": [
    "import pandas as pd\n",
    "import numpy as np\n",
    "import matplotlib.pyplot as plt"
   ]
  },
  {
   "cell_type": "markdown",
   "metadata": {},
   "source": [
    "## 1. Preprocessing"
   ]
  },
  {
   "cell_type": "markdown",
   "metadata": {},
   "source": [
    "1. Read the file [`checker_regression.csv`](https://drive.google.com/file/d/1L8auBzJEghWFewznhhFpcrqxW4GqcfRY/view?usp=sharing).\n",
    "2. Fill the missing values in it with `0`.\n",
    "3. Make a split of your dataset on train and test with parameters `test_size=0.2`."
   ]
  },
  {
   "cell_type": "code",
   "execution_count": 7,
   "metadata": {},
   "outputs": [
    {
     "data": {
      "text/html": [
       "<div>\n",
       "<style scoped>\n",
       "    .dataframe tbody tr th:only-of-type {\n",
       "        vertical-align: middle;\n",
       "    }\n",
       "\n",
       "    .dataframe tbody tr th {\n",
       "        vertical-align: top;\n",
       "    }\n",
       "\n",
       "    .dataframe thead th {\n",
       "        text-align: right;\n",
       "    }\n",
       "</style>\n",
       "<table border=\"1\" class=\"dataframe\">\n",
       "  <thead>\n",
       "    <tr style=\"text-align: right;\">\n",
       "      <th></th>\n",
       "      <th>uid</th>\n",
       "      <th>num_commits</th>\n",
       "      <th>pageviews</th>\n",
       "      <th>AVG(diff)</th>\n",
       "    </tr>\n",
       "  </thead>\n",
       "  <tbody>\n",
       "    <tr>\n",
       "      <th>0</th>\n",
       "      <td>user_1</td>\n",
       "      <td>62</td>\n",
       "      <td>28.0</td>\n",
       "      <td>0.00</td>\n",
       "    </tr>\n",
       "    <tr>\n",
       "      <th>1</th>\n",
       "      <td>user_1</td>\n",
       "      <td>62</td>\n",
       "      <td>28.0</td>\n",
       "      <td>0.00</td>\n",
       "    </tr>\n",
       "    <tr>\n",
       "      <th>2</th>\n",
       "      <td>user_1</td>\n",
       "      <td>62</td>\n",
       "      <td>28.0</td>\n",
       "      <td>0.00</td>\n",
       "    </tr>\n",
       "    <tr>\n",
       "      <th>3</th>\n",
       "      <td>user_1</td>\n",
       "      <td>62</td>\n",
       "      <td>28.0</td>\n",
       "      <td>0.00</td>\n",
       "    </tr>\n",
       "    <tr>\n",
       "      <th>4</th>\n",
       "      <td>user_1</td>\n",
       "      <td>62</td>\n",
       "      <td>28.0</td>\n",
       "      <td>0.00</td>\n",
       "    </tr>\n",
       "    <tr>\n",
       "      <th>...</th>\n",
       "      <td>...</td>\n",
       "      <td>...</td>\n",
       "      <td>...</td>\n",
       "      <td>...</td>\n",
       "    </tr>\n",
       "    <tr>\n",
       "      <th>72</th>\n",
       "      <td>user_31</td>\n",
       "      <td>128</td>\n",
       "      <td>0.0</td>\n",
       "      <td>-104.75</td>\n",
       "    </tr>\n",
       "    <tr>\n",
       "      <th>73</th>\n",
       "      <td>user_4</td>\n",
       "      <td>40</td>\n",
       "      <td>0.0</td>\n",
       "      <td>-175.60</td>\n",
       "    </tr>\n",
       "    <tr>\n",
       "      <th>74</th>\n",
       "      <td>user_6</td>\n",
       "      <td>15</td>\n",
       "      <td>0.0</td>\n",
       "      <td>-62.60</td>\n",
       "    </tr>\n",
       "    <tr>\n",
       "      <th>75</th>\n",
       "      <td>user_7</td>\n",
       "      <td>8</td>\n",
       "      <td>0.0</td>\n",
       "      <td>-115.50</td>\n",
       "    </tr>\n",
       "    <tr>\n",
       "      <th>76</th>\n",
       "      <td>user_8</td>\n",
       "      <td>71</td>\n",
       "      <td>0.0</td>\n",
       "      <td>-160.40</td>\n",
       "    </tr>\n",
       "  </tbody>\n",
       "</table>\n",
       "<p>77 rows × 4 columns</p>\n",
       "</div>"
      ],
      "text/plain": [
       "        uid  num_commits  pageviews  AVG(diff)\n",
       "0    user_1           62       28.0       0.00\n",
       "1    user_1           62       28.0       0.00\n",
       "2    user_1           62       28.0       0.00\n",
       "3    user_1           62       28.0       0.00\n",
       "4    user_1           62       28.0       0.00\n",
       "..      ...          ...        ...        ...\n",
       "72  user_31          128        0.0    -104.75\n",
       "73   user_4           40        0.0    -175.60\n",
       "74   user_6           15        0.0     -62.60\n",
       "75   user_7            8        0.0    -115.50\n",
       "76   user_8           71        0.0    -160.40\n",
       "\n",
       "[77 rows x 4 columns]"
      ]
     },
     "execution_count": 7,
     "metadata": {},
     "output_type": "execute_result"
    }
   ],
   "source": [
    "df = pd.read_csv('../../datasets/data/checker_regression.csv')\n",
    "df.fillna(0, inplace=True)\n",
    "df"
   ]
  },
  {
   "cell_type": "code",
   "execution_count": 8,
   "metadata": {},
   "outputs": [],
   "source": [
    "X = df.drop('AVG(diff)', axis=1)\n",
    "X['uid'] = X['uid'].str.replace('user_', '').astype(int)\n",
    "y = df['AVG(diff)']"
   ]
  },
  {
   "cell_type": "code",
   "execution_count": 19,
   "metadata": {},
   "outputs": [],
   "source": [
    "from sklearn.linear_model import LinearRegression\n",
    "from sklearn.ensemble import RandomForestRegressor\n",
    "from sklearn.tree import DecisionTreeRegressor\n",
    "from sklearn.model_selection import train_test_split, KFold, cross_val_score, cross_val_predict\n",
    "from sklearn.metrics import mean_squared_error"
   ]
  },
  {
   "cell_type": "code",
   "execution_count": 10,
   "metadata": {},
   "outputs": [],
   "source": [
    "X_train, X_test, y_train, y_test = train_test_split(X, y, test_size=0.2, random_state=21)"
   ]
  },
  {
   "cell_type": "markdown",
   "metadata": {},
   "source": [
    "## 2. Crossvalidation"
   ]
  },
  {
   "cell_type": "markdown",
   "metadata": {},
   "source": [
    "1. Write a function `crossval` that takes as arguments: `n_splits` for `KFold()`, `X`, `y`, model instantiated class with the parameters of the model (keep in mind: `random_state=21`) and returns for a given model class a result like this:\n",
    "\n",
    "```\n",
    "train -  2696.4496895424836   |   test -  1589.9979527104958\n",
    "train -  2660.957874001452   |   test -  2075.102636027137\n",
    "train -  2847.315529246795   |   test -  320.911928168403\n",
    "train -  2500.7691099659237   |   test -  4132.461382030178\n",
    "train -  2643.927917295123   |   test -  2237.8140952197878\n",
    "train -  2396.295678819444   |   test -  4509.650064742476\n",
    "train -  2003.402267924976   |   test -  8403.491474908551\n",
    "train -  2531.876094212613   |   test -  3135.944102735099\n",
    "train -  2683.1795186023123   |   test -  1796.01426292594\n",
    "train -  2537.1192483996338   |   test -  3439.29824116941\n",
    "Average RMSE on crossval is 3164.0686140637476\n",
    "```\n",
    "\n",
    "2. Run the function for `LinearRegression`, `DecisionTreeRegressor`, `RandomForestRegressor`. You may choose the parameters by yourself, but find the good enough for you."
   ]
  },
  {
   "cell_type": "code",
   "execution_count": 24,
   "metadata": {},
   "outputs": [],
   "source": [
    "def crossval(n_splits, X, y, model):\n",
    "    kfold = KFold(n_splits=n_splits, random_state=21, shuffle=True)\n",
    "    X_train, X_test, y_train, y_test = train_test_split(X, y, test_size=0.2, random_state=21)\n",
    "    score = cross_val_score(model, X_train, y_train, cv=kfold, scoring='neg_mean_squared_error')\n",
    "    score_test = cross_val_score(model, X_test, y_test, cv=kfold, scoring='neg_mean_squared_error')\n",
    "    predict = cross_val_predict(model, X_test, y_test, cv=kfold)\n",
    "    mse = mean_squared_error(y_test, predict)\n",
    "\n",
    "    for i in range(len(score)):\n",
    "        print(f'train - {score[i]} | test - {score_test[i]}')\n",
    "    rmse = np.sqrt(mse)\n",
    "    print(f'Average RMSE on crossval is {rmse}')"
   ]
  },
  {
   "cell_type": "code",
   "execution_count": 25,
   "metadata": {},
   "outputs": [
    {
     "name": "stdout",
     "output_type": "stream",
     "text": [
      "train - -1589.0512060007745 | test - -2064.92859993386\n",
      "train - -3183.328925357611 | test - -1821.9102482606493\n",
      "train - -1303.7821092937832 | test - -327.2783875483113\n",
      "train - -5673.019931808743 | test - -8385.006866523907\n",
      "train - -834.4946205768421 | test - -24413.329672336247\n",
      "train - -933.7170249616962 | test - -3112.43143989265\n",
      "train - -3669.1441872198534 | test - -265.2795627154094\n",
      "train - -288.0778762004243 | test - -127.31234356868792\n",
      "train - -2184.660670887447 | test - -622.8231049526138\n",
      "train - -1650.8829123322303 | test - -6595.692932551494\n",
      "Average RMSE on crossval is 74.1033393194849\n"
     ]
    }
   ],
   "source": [
    "linear_reg_model = LinearRegression()\n",
    "crossval(10, X, y, linear_reg_model)"
   ]
  },
  {
   "cell_type": "code",
   "execution_count": 28,
   "metadata": {},
   "outputs": [
    {
     "name": "stdout",
     "output_type": "stream",
     "text": [
      "train - -210.65142857142862 | test - -0.0\n",
      "train - -336.0016666666667 | test - -0.0\n",
      "train - -2147.0416666666665 | test - -0.0\n",
      "train - -2677.2933333333335 | test - -1656.625\n",
      "train - -368.1666666666667 | test - -22058.73\n",
      "train - -549.1266666666668 | test - -0.0\n",
      "train - -2306.2357407407403 | test - -0.0\n",
      "train - -2862.193333333333 | test - -0.0\n",
      "train - -3330.800046296296 | test - -0.0\n",
      "train - -466.40166666666664 | test - -1640.25\n",
      "Average RMSE on crossval is 55.37991513175151\n"
     ]
    }
   ],
   "source": [
    "regress_tree_model = DecisionTreeRegressor(random_state=21)\n",
    "crossval(10, X, y, regress_tree_model)"
   ]
  },
  {
   "cell_type": "code",
   "execution_count": 27,
   "metadata": {},
   "outputs": [
    {
     "name": "stdout",
     "output_type": "stream",
     "text": [
      "train - -8.369831253968643 | test - -9.999391999999999\n",
      "train - -766.5129453750001 | test - -2022.9752980000007\n",
      "train - -1906.3124506666663 | test - -2102.3721680000012\n",
      "train - -2161.1797283703713 | test - -8256.02238850001\n",
      "train - -599.6667129629623 | test - -19175.461825\n",
      "train - -53.206933407406744 | test - -7.994460499999999\n",
      "train - -2547.8118134074093 | test - -47.265625\n",
      "train - -1707.5763640416628 | test - -152.7696\n",
      "train - -334.4109037777766 | test - -0.0\n",
      "train - -369.65127140740697 | test - -807.0712809999999\n",
      "Average RMSE on crossval is 63.32296067087358\n"
     ]
    }
   ],
   "source": [
    "regress_forest_model = RandomForestRegressor(random_state=21)\n",
    "crossval(10, X, y, regress_forest_model)"
   ]
  },
  {
   "cell_type": "markdown",
   "metadata": {},
   "source": [
    "## 3. Predictions and evaluation"
   ]
  },
  {
   "cell_type": "markdown",
   "metadata": {},
   "source": [
    "1. Make predictions for the test dataset using each of the three models with the finalized parameters.\n",
    "2. Draw a plot for each of the models where the `x-axis` is the actual average difference and the `y-axis` is the prediction made by a model.\n",
    "3. How would plot look like in the ideal case? Put the answer to the markdown cell in the end of the section."
   ]
  },
  {
   "cell_type": "code",
   "execution_count": 30,
   "metadata": {},
   "outputs": [
    {
     "name": "stdout",
     "output_type": "stream",
     "text": [
      "mean squared error: 3031.927706672527\n"
     ]
    }
   ],
   "source": [
    "lr_model = LinearRegression(fit_intercept=True, copy_X=True)\n",
    "lr_model.fit(X_train, y_train)\n",
    "print(f'mean squared error: {mean_squared_error(y_test, lr_model.predict(X_test))}')"
   ]
  },
  {
   "cell_type": "code",
   "execution_count": 32,
   "metadata": {},
   "outputs": [
    {
     "name": "stdout",
     "output_type": "stream",
     "text": [
      "mean squared error: 2068.5367263641974\n"
     ]
    }
   ],
   "source": [
    "params = {'bootstrap': False, 'criterion': 'squared_error', 'max_depth': None, 'max_features': 'sqrt', 'min_samples_leaf': 1, 'min_samples_split': 5, 'n_estimators': 50}\n",
    "regress_forest_model = RandomForestRegressor(**params)\n",
    "regress_forest_model.fit(X_train, y_train)\n",
    "print(f'mean squared error: {mean_squared_error(y_test, regress_forest_model.predict(X_test))}')"
   ]
  },
  {
   "cell_type": "code",
   "execution_count": 33,
   "metadata": {},
   "outputs": [
    {
     "name": "stdout",
     "output_type": "stream",
     "text": [
      "mean squared error: 2738.7531423611103\n"
     ]
    }
   ],
   "source": [
    "params = {'criterion': 'squared_error', 'max_depth': None, 'max_features': 'sqrt', 'min_samples_leaf': 1, 'min_samples_split': 5}\n",
    "regress_tree_model = DecisionTreeRegressor(**params)\n",
    "regress_tree_model.fit(X_train, y_train)\n",
    "print(f'mean squared error: {mean_squared_error(y_test, regress_tree_model.predict(X_test))}')"
   ]
  },
  {
   "cell_type": "code",
   "execution_count": 41,
   "metadata": {},
   "outputs": [],
   "source": [
    "def plot_predictions(model_name, y_test, y_pred):\n",
    "    plt.scatter(y_test, y_pred)\n",
    "    plt.xlabel('avg diff')\n",
    "    plt.ylabel(f'predictions made by {model_name}')\n",
    "    plt.tight_layout()\n",
    "    plt.show()"
   ]
  },
  {
   "cell_type": "code",
   "execution_count": 42,
   "metadata": {},
   "outputs": [
    {
     "data": {
      "image/png": "[encoded data removed]",
      "text/plain": [
       "<Figure size 640x480 with 1 Axes>"
      ]
     },
     "metadata": {},
     "output_type": "display_data"
    }
   ],
   "source": [
    "plot_predictions(lr_model, y_test, lr_model.predict(X_test))"
   ]
  },
  {
   "cell_type": "code",
   "execution_count": 43,
   "metadata": {},
   "outputs": [
    {
     "data": {
      "image/png": "[encoded data removed]",
      "text/plain": [
       "<Figure size 640x480 with 1 Axes>"
      ]
     },
     "metadata": {},
     "output_type": "display_data"
    }
   ],
   "source": [
    "plot_predictions(regress_forest_model, y_test, regress_forest_model.predict(X_test))"
   ]
  },
  {
   "cell_type": "code",
   "execution_count": 44,
   "metadata": {},
   "outputs": [
    {
     "data": {
      "image/png": "[encoded data removed]",
      "text/plain": [
       "<Figure size 640x480 with 1 Axes>"
      ]
     },
     "metadata": {},
     "output_type": "display_data"
    }
   ],
   "source": [
    "plot_predictions(regress_tree_model, y_test, regress_tree_model.predict(X_test))"
   ]
  },
  {
   "cell_type": "markdown",
   "metadata": {},
   "source": [
    "All of the dots would be on a straight line."
   ]
  }
 ],
 "metadata": {
  "kernelspec": {
   "display_name": "venv",
   "language": "python",
   "name": "python3"
  },
  "language_info": {
   "codemirror_mode": {
    "name": "ipython",
    "version": 3
   },
   "file_extension": ".py",
   "mimetype": "text/x-python",
   "name": "python",
   "nbconvert_exporter": "python",
   "pygments_lexer": "ipython3",
   "version": "3.13.3"
  }
 },
 "nbformat": 4,
 "nbformat_minor": 4
}
