{
 "cells": [
  {
   "cell_type": "code",
   "execution_count": 3,
   "id": "0239ab1e",
   "metadata": {},
   "outputs": [
    {
     "name": "stdout",
     "output_type": "stream",
     "text": [
      "Number of observations before removing duplicates:\n",
      "CarNumber       931\n",
      "Make_n_model    931\n",
      "Refund          914\n",
      "Fines           869\n",
      "History          82\n",
      "dtype: int64\n",
      "\n",
      "Number of observations after removing duplicates:\n",
      "CarNumber       725\n",
      "Make_n_model    725\n",
      "Refund          713\n",
      "Fines           665\n",
      "History          65\n",
      "dtype: int64\n",
      "\n",
      "Missing values before processing:\n",
      "CarNumber         0\n",
      "Make_n_model      0\n",
      "Refund           12\n",
      "Fines            60\n",
      "History         660\n",
      "dtype: int64\n",
      "\n",
      "Missing values after removing columns:\n",
      "CarNumber        0\n",
      "Make_n_model     0\n",
      "Refund          12\n",
      "Fines           60\n",
      "dtype: int64\n",
      "\n",
      "Missing values after processing Refund:\n",
      "CarNumber        0\n",
      "Make_n_model     0\n",
      "Refund           0\n",
      "Fines           60\n",
      "dtype: int64\n",
      "\n",
      "Missing values after processing Fines:\n",
      "CarNumber       0\n",
      "Make_n_model    0\n",
      "Refund          0\n",
      "Fines           0\n",
      "dtype: int64\n",
      "\n",
      "JSON file saved: auto.json\n"
     ]
    },
    {
     "name": "stderr",
     "output_type": "stream",
     "text": [
      "/var/folders/7g/6cvspph116v2yryvzpg936s00000gn/T/ipykernel_73799/547488082.py:14: FutureWarning: Series.fillna with 'method' is deprecated and will raise in a future version. Use obj.ffill() or obj.bfill() instead.\n",
      "  df[\"Refund\"] = df[\"Refund\"].fillna(method=\"ffill\")\n"
     ]
    }
   ],
   "source": [
    "import pandas as pd\n",
    "\n",
    "df = pd.read_csv('../data/auto.csv', index_col=\"ID\")\n",
    "\n",
    "data_count_before = df.count()\n",
    "df = df.drop_duplicates(subset=[\"CarNumber\", \"Make_n_model\", \"Fines\"], keep=\"last\")\n",
    "data_count_after = df.count()\n",
    "\n",
    "\n",
    "missing_before = df.isnull().sum()\n",
    "df = df.dropna(thresh=len(df) - 500, axis=1)\n",
    "missing_after_drop = df.isnull().sum()\n",
    "\n",
    "df[\"Refund\"] = df[\"Refund\"].fillna(method=\"ffill\")\n",
    "missing_after_refund = df.isnull().sum()\n",
    "df[\"Fines\"] = df[\"Fines\"].fillna(df[\"Fines\"].mean())\n",
    "missing_after_fines = df.isnull().sum()\n",
    "\n",
    "df[[\"Make\", \"Model\"]] = df[\"Make_n_model\"].apply(lambda x: pd.Series(str(x).split(\" \", 1)))\n",
    "df = df.drop(columns=[\"Make_n_model\"])\n",
    "\n",
    "json_file = \"auto.json\"\n",
    "df.to_json(json_file, orient=\"records\", indent=4, force_ascii=False)\n",
    "\n",
    "print(\"Number of observations before removing duplicates:\")\n",
    "print(data_count_before)\n",
    "print(\"\\nNumber of observations after removing duplicates:\")\n",
    "print(data_count_after)\n",
    "print(\"\\nMissing values before processing:\")\n",
    "print(missing_before)\n",
    "print(\"\\nMissing values after removing columns:\")\n",
    "print(missing_after_drop)\n",
    "print(\"\\nMissing values after processing Refund:\")\n",
    "print(missing_after_refund)\n",
    "print(\"\\nMissing values after processing Fines:\")\n",
    "print(missing_after_fines)\n",
    "print(\"\\nJSON file saved: auto.json\")"
   ]
  }
 ],
 "metadata": {
  "kernelspec": {
   "display_name": "localenv",
   "language": "python",
   "name": "python3"
  },
  "language_info": {
   "codemirror_mode": {
    "name": "ipython",
    "version": 3
   },
   "file_extension": ".py",
   "mimetype": "text/x-python",
   "name": "python",
   "nbconvert_exporter": "python",
   "pygments_lexer": "ipython3",
   "version": "3.13.3"
  }
 },
 "nbformat": 4,
 "nbformat_minor": 5
}
