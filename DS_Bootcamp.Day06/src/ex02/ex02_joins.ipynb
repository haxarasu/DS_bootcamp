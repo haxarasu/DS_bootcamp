{
 "cells": [
  {
   "cell_type": "code",
   "execution_count": 16,
   "id": "b1d61fff",
   "metadata": {},
   "outputs": [
    {
     "name": "stdout",
     "output_type": "stream",
     "text": [
      "The datamart table has been created and processed.\n",
      "Total users: 140\n",
      "Test group (with first_view_ts): 59\n",
      "Control group (without first_view_ts): 81\n",
      "Avg value of first_view_ts for the control group: 2020-04-27 00:40:05.761783552\n"
     ]
    },
    {
     "name": "stderr",
     "output_type": "stream",
     "text": [
      "/var/folders/7g/6cvspph116v2yryvzpg936s00000gn/T/ipykernel_87413/389033757.py:34: FutureWarning: A value is trying to be set on a copy of a DataFrame or Series through chained assignment using an inplace method.\n",
      "The behavior will change in pandas 3.0. This inplace method will never work because the intermediate object on which we are setting values always behaves as a copy.\n",
      "\n",
      "For example, when doing 'df[col].method(value, inplace=True)', try using 'df.method({col: value}, inplace=True)' or df[col] = df[col].method(value) instead, to perform the operation inplace on the original object.\n",
      "\n",
      "\n",
      "  control[\"first_view_ts\"].fillna(mean_first_view_ts, inplace=True)\n",
      "/var/folders/7g/6cvspph116v2yryvzpg936s00000gn/T/ipykernel_87413/389033757.py:34: SettingWithCopyWarning: \n",
      "A value is trying to be set on a copy of a slice from a DataFrame\n",
      "\n",
      "See the caveats in the documentation: https://pandas.pydata.org/pandas-docs/stable/user_guide/indexing.html#returning-a-view-versus-a-copy\n",
      "  control[\"first_view_ts\"].fillna(mean_first_view_ts, inplace=True)\n"
     ]
    }
   ],
   "source": [
    "import sqlite3\n",
    "import pandas as pd\n",
    "\n",
    "conn = sqlite3.connect(\"../data/checking-logs.sqlite\")\n",
    "\n",
    "query = \"\"\"\n",
    "CREATE TABLE IF NOT EXISTS datamart AS\n",
    "SELECT\n",
    "    c.uid,\n",
    "    c.labname,\n",
    "    c.timestamp AS first_commit_ts,\n",
    "    MIN(p.datetime) AS first_view_ts\n",
    "FROM checker c\n",
    "LEFT JOIN pageviews p ON c.uid = p.uid\n",
    "WHERE c.status = 'ready'\n",
    "AND c.numTrials = 1\n",
    "AND c.labname IN ('laba04', 'laba04s', 'laba05', 'laba06', 'laba06s', 'project1')\n",
    "AND c.uid LIKE 'user_%'\n",
    "GROUP BY c.uid, c.labname, c.timestamp;\n",
    "\"\"\"\n",
    "\n",
    "conn.execute(query)\n",
    "conn.commit()\n",
    "\n",
    "datamart = pd.read_sql(\"SELECT * FROM datamart\", conn)\n",
    "\n",
    "datamart[\"first_commit_ts\"] = pd.to_datetime(datamart[\"first_commit_ts\"])\n",
    "datamart[\"first_view_ts\"] = pd.to_datetime(datamart[\"first_view_ts\"])\n",
    "\n",
    "test = datamart.dropna(subset=[\"first_view_ts\"])\n",
    "control = datamart[datamart[\"first_view_ts\"].isna()]\n",
    "\n",
    "mean_first_view_ts = test[\"first_view_ts\"].mean()\n",
    "control[\"first_view_ts\"].fillna(mean_first_view_ts, inplace=True)\n",
    "\n",
    "test.to_sql(\"test_group\", conn, if_exists=\"replace\", index=False)\n",
    "control.to_sql(\"control_group\", conn, if_exists=\"replace\", index=False)\n",
    "\n",
    "conn.close()\n",
    "\n",
    "print(\"The datamart table has been created and processed.\")\n",
    "print(f\"Total users: {len(datamart)}\")\n",
    "print(f\"Test group (with first_view_ts): {len(test)}\")\n",
    "print(f\"Control group (without first_view_ts): {len(control)}\")\n",
    "print(\"Avg value of first_view_ts for the control group:\", mean_first_view_ts)\n",
    "\n"
   ]
  }
 ],
 "metadata": {
  "kernelspec": {
   "display_name": "localenv",
   "language": "python",
   "name": "python3"
  },
  "language_info": {
   "codemirror_mode": {
    "name": "ipython",
    "version": 3
   },
   "file_extension": ".py",
   "mimetype": "text/x-python",
   "name": "python",
   "nbconvert_exporter": "python",
   "pygments_lexer": "ipython3",
   "version": "3.13.3"
  }
 },
 "nbformat": 4,
 "nbformat_minor": 5
}
