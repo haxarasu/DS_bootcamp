{
 "cells": [
  {
   "cell_type": "code",
   "execution_count": 6,
   "id": "f3711804",
   "metadata": {},
   "outputs": [
    {
     "name": "stdout",
     "output_type": "stream",
     "text": [
      "                              user\n",
      "date_time                         \n",
      "2020-04-17 12:01:08.463179   artem\n",
      "2020-04-17 12:01:23.743946   artem\n",
      "2020-04-17 12:35:52.735016   artem\n",
      "2020-04-17 12:36:21.401412  oksana\n",
      "2020-04-17 12:36:22.023355  oksana\n",
      "                                 user\n",
      "date_time                            \n",
      "2020-05-21 16:36:40.915488  ekaterina\n",
      "2020-05-21 17:49:36.429237      maxim\n",
      "2020-05-21 18:45:20.441142  valentina\n",
      "2020-05-21 23:03:06.457819      maxim\n",
      "2020-05-21 23:23:49.995349      pavel\n"
     ]
    }
   ],
   "source": [
    "import pandas as pd\n",
    "\n",
    "df = pd.read_csv(\"../data/feed-views.log\",\n",
    "                 sep=\"\\t\",\n",
    "                 skiprows=[2,3],\n",
    "                 skipfooter=2,\n",
    "                 names=[\"datetime\", \"user\"],\n",
    "                 index_col=\"datetime\",\n",
    "                 engine=\"python\")\n",
    "\n",
    "df.index.name = \"date_time\"\n",
    "\n",
    "df.to_csv(\"../data/feed-views-semicolon.log\", sep=\";\")\n",
    "\n",
    "#print(\"File feed-views-semicolon saved\")\n",
    "print(df.head())\n",
    "print(df.tail())"
   ]
  }
 ],
 "metadata": {
  "kernelspec": {
   "display_name": "localenv",
   "language": "python",
   "name": "python3"
  },
  "language_info": {
   "codemirror_mode": {
    "name": "ipython",
    "version": 3
   },
   "file_extension": ".py",
   "mimetype": "text/x-python",
   "name": "python",
   "nbconvert_exporter": "python",
   "pygments_lexer": "ipython3",
   "version": "3.13.3"
  }
 },
 "nbformat": 4,
 "nbformat_minor": 5
}
